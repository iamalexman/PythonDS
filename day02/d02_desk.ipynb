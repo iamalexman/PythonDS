{
  "cells": [
    {
      "cell_type": "markdown",
      "metadata": {
        "id": "dVqPhJrgBFAk"
      },
      "source": [
        "# day02 - И волки сыты\n",
        "\n",
        "---"
      ]
    },
    {
      "cell_type": "code",
      "execution_count": 1,
      "metadata": {
        "id": "_0brmi4yBFAm"
      },
      "outputs": [],
      "source": [
        "from random import randint, betavariate\n",
        "import pandas as pd\n",
        "import numpy as np\n",
        "import matplotlib.pyplot as plt\n",
        "import math\n",
        "from datetime import datetime, timedelta, date, time\n",
        "import pylab\n",
        "import seaborn as sns\n",
        "plt.style.use('seaborn')\n",
        "%matplotlib inline\n",
        "pylab.rcParams['figure.figsize'] = (30, 20)"
      ]
    },
    {
      "cell_type": "markdown",
      "metadata": {
        "id": "4QmtfIAqBFAn"
      },
      "source": [
        "---\n",
        "\n",
        "## Моменты времени и протяженность во времени\n",
        "\n",
        "Когда произошло событие? Сколько времени оно длилось? Эти два вопроса отличают моменты от продолжительности.  \n",
        "Если уместно задать первый вопрос, или его аналог, то речь идет о моменте времени. Уместность второго вопроса свидетельствует о продолжительности. Данные по моментам и продолжительностям имеют разные сущности и требуют различные инструменты обработки при анализе. Рассмотрим на примере:"
      ]
    },
    {
      "cell_type": "markdown",
      "metadata": {
        "id": "v5ilNZPkBFAo"
      },
      "source": [
        "---\n",
        "\n",
        "В файле *iCafe_train.xlsx* представлены данные одного дня интернет-кафе. Кафе принимает заказы на готовую еду и доставляет ее клиентам.  \n",
        "Таблица содержит столбцы:\n",
        "- Order_time - содержит информацию о времени размещения заказа на сайте, время представлено строкой вида 'h:mm:ss';\n",
        "- Delivery_time - содержит информацию о времени, затраченном на доставку, время указано целым числом и характеризует количество минут, потребовавшихся на доставку от помещения кафе до клиента;\n",
        "- Office - характеристика места доставки:\n",
        "    - 1 - если доставка осуществлялась к месту работы клиента;\n",
        "    - 0 - если доставка осуществлялась в жилой сектор. \n",
        "\n",
        "Нашей задачей будет определить, куда доставлялся заказ, на основании данных о времени его размещения и доставки."
      ]
    },
    {
      "cell_type": "markdown",
      "metadata": {
        "id": "ffREO8djBFAo"
      },
      "source": [
        "Для решения задачи нам потребуется несколько библиотек. Часть из них уже импортированы в первой ячейке ноутбука, вторая часть появится по ходу решения задачи. Среди импортированных уже известные нам библиотеки numpy и matplotlib, а так же новые библиотеки:\n",
        "- ***pandas*** - библиотека инструментов для работы с одномерными, двумерными и трехмерными структурами данных. Чаще всего работают с двумерными структурами данных (таблицами), которые называются датафреймами (DataFrame). Информация по pandas:\n",
        "    - [Официальная документация](https://pandas.pydata.org)\n",
        "    - [Краткий справочник на русском языке](https://pythonworld.ru/obrabotka-dannyx/pandas-cookbook-0-ipython.html)\n",
        "- ***seaborn*** - библиотека инструментов визуализаци статистических данных. \n",
        "[Официальная документация](https://seaborn.pydata.org)"
      ]
    },
    {
      "cell_type": "markdown",
      "metadata": {
        "id": "T_W8njVVBFAp"
      },
      "source": [
        "Для начала импортируем данные из файла:"
      ]
    },
    {
      "cell_type": "code",
      "execution_count": null,
      "metadata": {
        "colab": {
          "base_uri": "https://localhost:8080/"
        },
        "id": "I5nmPCFzEeFp",
        "outputId": "7f2292fb-8613-409a-e6be-0e02abc2b127"
      },
      "outputs": [],
      "source": [
        "from google.colab import drive  # если вы выполняете код из среды Google Colab, нужно подключить свой гугл-диск,\n",
        "drive.mount('/content/drive')   # чтобы можно было оттуда считать файл с данными для этого задания"
      ]
    },
    {
      "cell_type": "code",
      "execution_count": null,
      "metadata": {
        "colab": {
          "base_uri": "https://localhost:8080/",
          "height": 433
        },
        "id": "o7Z-Zu6GBFAp",
        "outputId": "9033b250-247d-45eb-eae0-8b416b0054c3"
      },
      "outputs": [],
      "source": [
        "df = pd.read_excel('/content/drive/MyDrive/data/iCafe_train.xlsx') # Создаем датафрейм df из файла\n",
        "df                                                                                    # Смотрим, что в нем располагается"
      ]
    },
    {
      "cell_type": "markdown",
      "metadata": {
        "id": "oaHM_LhyBFAq"
      },
      "source": [
        "Строковые значение столбца Order_time не удобны с точки зрения математического анализа и визуализации, поэтому необходимо преобразовать данные к другому виду. Создадим столбец Order_time_sec, в котором будет представлена информация о времени размещения заказа в секундах. Для этого воспользуемся двумя функциями:\n",
        "- ***to_timedelta*** модуля pandas, которая распарсит строку времени и определит отклонение результата от 0;\n",
        "- ***timedelta64*** модуля numpy, которая позволит нам получить в знаменателе 1 секунду и, соответственно, весь результат в секундах. Изменение параметра 's' на 'm' или на 'h' позволит получать результат в минутах и часах соответственно."
      ]
    },
    {
      "cell_type": "code",
      "execution_count": null,
      "metadata": {
        "colab": {
          "base_uri": "https://localhost:8080/",
          "height": 433
        },
        "id": "b-fgT5gFBFAq",
        "outputId": "0ee6697f-6e26-4b3d-e469-5b5476584713"
      },
      "outputs": [],
      "source": [
        "df['Order_time_sec'] = pd.to_timedelta(df.Order_time) // np.timedelta64(1,'s') # Создаем столбец\n",
        "df                                                                             # Смотрим результат"
      ]
    },
    {
      "cell_type": "code",
      "execution_count": null,
      "metadata": {
        "colab": {
          "base_uri": "https://localhost:8080/",
          "height": 313
        },
        "id": "mOofFzFJBFAr",
        "outputId": "3a1b72f0-2703-4a83-942a-df4562bbe3ab"
      },
      "outputs": [],
      "source": [
        "df.describe()"
      ]
    },
    {
      "cell_type": "markdown",
      "metadata": {
        "id": "Gj66cv17BFAr"
      },
      "source": [
        "Начинать анализ следует с того, чтобы понять что вообще происходит, какие наблюдаются правила, зависимости, попытаться понять процесс...\n",
        "\n",
        "Для этого лучше всего визуализировать данные. Далее мы построим несколько графиков и попытаемся их интерпретировать."
      ]
    },
    {
      "cell_type": "code",
      "execution_count": null,
      "metadata": {
        "colab": {
          "base_uri": "https://localhost:8080/",
          "height": 300
        },
        "id": "ubsS0idyBFAr",
        "outputId": "b11bc8a8-a0bc-4abc-89dd-38cfc4078dc0"
      },
      "outputs": [],
      "source": [
        "\"\"\"Строим график, где по оси абсцисс откладывается время поступления заказа, а по оси ординат место доставки\"\"\"\n",
        "\n",
        "plt.scatter(df.Order_time_sec, df.Office)\n",
        "plt.xlabel('Время поступления заказа (Order_time_sec)')\n",
        "plt.ylabel('Место доставки (Office)')\n",
        "plt.show()"
      ]
    },
    {
      "cell_type": "markdown",
      "metadata": {
        "id": "7laTqYf5BFAs"
      },
      "source": [
        "Судя по графику, заказы в офис и не в офис по моменту поступления пересекаются, но кажется, что не очень сильно. Точнее мы сейчас определить не сможем."
      ]
    },
    {
      "cell_type": "code",
      "execution_count": null,
      "metadata": {
        "colab": {
          "base_uri": "https://localhost:8080/",
          "height": 300
        },
        "id": "R_fUVXLbBFAs",
        "outputId": "f4c92e1d-4b1c-4f39-c13d-acc4187c293a"
      },
      "outputs": [],
      "source": [
        "\"\"\"Строим график, где по оси абсцисс откладывается время доставки заказа, а по оси ординат место доставки\"\"\"\n",
        "\n",
        "plt.scatter(df.Delivery_time, df.Office)\n",
        "plt.xlabel('Время доставки заказа (Delivery_time)')\n",
        "plt.ylabel('Место доставки (Office)')\n",
        "plt.show()"
      ]
    },
    {
      "cell_type": "markdown",
      "metadata": {
        "id": "IwZPABHuBFAs"
      },
      "source": [
        "Получили график, который не дает нам никакой информации. Это получилось в следствие того, что время доставки гораздо более дискретная величина, по сравнению с моментом размещения заказа, и у нас есть заказы из обоих классов почти для всех минут доставки. Построим другой график:"
      ]
    },
    {
      "cell_type": "code",
      "execution_count": null,
      "metadata": {
        "colab": {
          "base_uri": "https://localhost:8080/",
          "height": 300
        },
        "id": "lukOiL8bBFAt",
        "outputId": "77c71a79-50d8-4fcb-8ade-bce2aea11703",
        "scrolled": false
      },
      "outputs": [],
      "source": [
        "\"\"\"Строим диаграмму, где на каждое время доставки представлено количество доставок в офис и не в офис\"\"\"\n",
        "\n",
        "sns.countplot(x = 'Delivery_time', hue = 'Office', data = df)\n",
        "plt.show()"
      ]
    },
    {
      "cell_type": "markdown",
      "metadata": {
        "id": "RrE3TJaRBFAt"
      },
      "source": [
        "Из диаграммы мы видим, что в среднем в офис поставка осуществляется быстрее. Скорее всего помещение кафе располагается ближе к офисам, чем к жилым кварталам. Также мы видим, что чем дольше время доставки, тем меньше кафе получает заказов.\n",
        "\n",
        "Попробуем построить подобный график для момента размещения заказа:"
      ]
    },
    {
      "cell_type": "code",
      "execution_count": null,
      "metadata": {
        "colab": {
          "base_uri": "https://localhost:8080/",
          "height": 300
        },
        "id": "qXlCKIuWBFAt",
        "outputId": "3beb2741-f2c4-4350-edaf-e894afec2ee2"
      },
      "outputs": [],
      "source": [
        "\"\"\"Строим диаграмму, где на каждое время размещения заказа представлено количество доставок в офис и не в офис\"\"\"\n",
        "\n",
        "sns.countplot(x = 'Order_time_sec', hue = 'Office', data = df)\n",
        "plt.show()"
      ]
    },
    {
      "cell_type": "markdown",
      "metadata": {
        "id": "JdFGgM5YBFAu"
      },
      "source": [
        "Опять получили лишенный смысла график. Здесь наблюдается обратная проблема. Заказы не поступают одноременно (за исключением одного случая, который следует рассматривать как случайное и крайне редкое событие). Для того, чтобы получить информативный график, нам необходимо собрать моменты поступления заказов во временные диапазоны, например, часовые. Создадим столбец Order_time_h, в который запишем час поступления заказа и построим диаграмму на полученных данных:"
      ]
    },
    {
      "cell_type": "code",
      "execution_count": null,
      "metadata": {
        "colab": {
          "base_uri": "https://localhost:8080/",
          "height": 300
        },
        "id": "3Of-arq8BFAu",
        "outputId": "f25a7a98-9460-43ef-cff1-6d5acae3ae0b"
      },
      "outputs": [],
      "source": [
        "\"\"\"Строим диаграмму, где на каждый час времени размещения заказа представлено количество доставок \n",
        "   в офис и не в офис\"\"\"\n",
        "\n",
        "df['Order_time_h'] = df.Order_time_sec//3600\n",
        "sns.countplot(x = 'Order_time_h', hue = 'Office', data = df)\n",
        "plt.show()"
      ]
    },
    {
      "cell_type": "markdown",
      "metadata": {
        "id": "R1D05qmHBFAu"
      },
      "source": [
        "Вот теперь мы видим, что по моменту размещения заказа доля пересечения классов действительно не велика. Так же мы видим, что есть три больших всплеска заказов: \n",
        "- с 11 до 14 часов в офис - обеденный перерыв;\n",
        "- с 18 до 22 часов на дом - для тех кто не хочет или не может готовить ужин;\n",
        "- с 23 до 1 часа ночи в офис - дежурные на непрерывном производстве (например, тех. поддержка провайдеров)"
      ]
    },
    {
      "cell_type": "markdown",
      "metadata": {
        "id": "KVPft0HWBFAu"
      },
      "source": [
        "Построим еще пару графиков. Постарайтесь их интерпретировать самостоятельно."
      ]
    },
    {
      "cell_type": "code",
      "execution_count": null,
      "metadata": {
        "colab": {
          "base_uri": "https://localhost:8080/",
          "height": 300
        },
        "id": "clNvfnyVBFAv",
        "outputId": "41608371-3a9b-4828-bdd7-5d9fa707e490"
      },
      "outputs": [],
      "source": [
        "plt.scatter(df.Order_time_sec[df.Office == 1], df.Delivery_time[df.Office == 1], color = 'red')\n",
        "plt.scatter(df.Order_time_sec[df.Office == 0], df.Delivery_time[df.Office == 0])\n",
        "plt.legend(['В офис', 'На дом'])\n",
        "plt.xlabel('Время поступления заказа (Order_time_sec)')\n",
        "plt.ylabel('Время доставки заказа (Delivery_time)')\n",
        "plt.show()"
      ]
    },
    {
      "cell_type": "code",
      "execution_count": null,
      "metadata": {
        "colab": {
          "base_uri": "https://localhost:8080/",
          "height": 888
        },
        "id": "JugkHxZ8BFAv",
        "outputId": "43cb541d-a50f-40b4-91f5-f4aa576fa19b"
      },
      "outputs": [],
      "source": [
        "sns.pairplot(df[['Office', 'Order_time_sec', 'Delivery_time']], hue=\"Office\", height=6)\n",
        "plt.show()"
      ]
    },
    {
      "cell_type": "markdown",
      "metadata": {
        "id": "qJNlrS3_BFAv"
      },
      "source": [
        "---\n",
        "\n",
        "### Разработка классификатора\n",
        "***Логистическая регрессия***  \n",
        "Настало время создать классификатор, который будет на основании данных о моменте размещения заказа и времени его доставки определять класс заказа (в офис, не в офис). Классификатор будем строить с помощью логистической регрессии:  \n",
        "$$f(z)=\\frac{1}{1+e^{-z}}$$\n",
        "где *z* - это уравнение линейной регрессии по *n* признакам:\n",
        "$$z=\\theta_0+\\sum_{i=1}^n {\\theta_ix_i}$$\n",
        "Поиск вектора $\\bar{\\theta}$ и является задачей классификации с помощью [логистической регрессии](https://habr.com/ru/company/io/blog/265007/)."
      ]
    },
    {
      "cell_type": "markdown",
      "metadata": {
        "id": "Y-8H9jJoBFAw"
      },
      "source": [
        "***Метрики качества***  \n",
        "Разработанный классификатор предсказывает к какому классу принадлежит объект на основании значений его признаков. В результате возможны четыре ситуации:\n",
        "- Объект имеет характеристику класса 1 и классификатор определяет характеристику как 1. Это означает, что классификатор сработал верно. Величина ***TP*** (True positive) содержит общее количество таких ответов.\n",
        "- Объект имеет характеристику класса 0, а классификатор определяет характеристику как 1. Это означает, что классификатор сработал не верно. Величина ***FP*** (False positive) содержит общее количество таких ответов.\n",
        "- Объект имеет характеристику класса 0 и классификатор определяет характеристику как 0. Это означает, что классификатор сработал верно. Величина ***TN*** (True negative) содержит общее количество таких ответов.\n",
        "- Объект имеет характеристику класса 1, а классификатор определяет характеристику как 0. Это означает, что классификатор сработал не верно. Величина ***FN*** (False negative) содержит общее количество таких ответов.    \n",
        "\n",
        "Идеальный классификатор должен все определять верно, поэтому первая метрика ***Accuracy*** определяет долю правильных ответов и считается следующим образом:\n",
        "$$Accuracy=\\frac{TP+TN}{TP+TN+FP+FN}$$\n",
        "Однако эту метрику рекомендуется использовать только для сбалансированных классов. Простой пример: если данные содержат 50 положительных объектов и 950 отрицательных, а классификатор настроен выдавть всегда отрицательный ответ, то *Accuracy = 0.95*, т.е. 95% правильных ответов при абсолютно бесполезном классификаторе.  \n",
        "Второй метрикой качества является точность - ***Precision***, которая считается следующим образом:\n",
        "$$Precision=\\frac{TP}{TP+FP}$$\n",
        "*Precision* определяет долю положительных объектов, среди положительных ответов классификатора.  \n",
        "Следующая метрика называется полнотой - ***Recall***, определяет долю выявленных классификатором положительных объектов, и рассчитывается так:\n",
        "$$Recall=\\frac{TP}{TP+FN}$$\n",
        "На практике часто требуются хорошие значения и точности, и полноты, поэтому было разработано множество показателей на основе обеих метрик. Наиболее известная метрика - это F-мера:\n",
        "$$F_\\beta = (1 + \\beta^2) \\cdot \\frac{\\mathrm{precision} \\cdot \\mathrm{recall}}{(\\beta^2 \\cdot \\mathrm{precision}) + \\mathrm{recall}} = \\frac {(1 + \\beta^2) \\cdot \\mathrm{TP} }{(1 + \\beta^2) \\cdot \\mathrm{TP} + \\beta^2 \\cdot \\mathrm{FN} + \\mathrm{FP}}$$\n",
        "F-мера - это среднее гармоническое точности и полноты. При плохих значениях одной из метрик (или обеих), F-мера устремляется к нулю. Параметр $\\beta$ регулирует значимости метрик:\n",
        "- Если $\\beta>1$, то F-мера сильнее реагирует на долю ложноположительных ответов, т.е. на *Recall*;\n",
        "- Если $\\beta<1$, то F-мера чувствительнее к точности;\n",
        "- Если $\\beta=1$, то *Recall* и *Precision* равнозначны.\n",
        "Часто используют именно метрику **$F_1$**:\n",
        "$$F_1 = \\frac{2\\cdot\\mathrm{precision} \\cdot \\mathrm{recall}}{ \\mathrm{precision} + \\mathrm{recall}}$$ \n",
        "\n",
        "Значительное отклонение метрик качества на обучающей и тестовой выборках может свидетельствовать о [переобучении модели](https://ru.wikipedia.org/wiki/Переобучение)"
      ]
    },
    {
      "cell_type": "markdown",
      "metadata": {
        "id": "GeEKMehKBFAw"
      },
      "source": [
        "***scikit-learn***\n",
        "\n",
        "Для разработки классификатора воспольземся библиотекой с инструментами машинного обучения [scikit-learn](https://scikit-learn.org/stable/) (sklearn).  \n",
        "Нам потребуются 4 инструмента:\n",
        "- ***classification_report*** из модуля [metrics](https://scikit-learn.org/stable/modules/classes.html?highlight=metrics#module-sklearn.metrics) сформирует метрики *Accuracy*, *Precision*, *Recall* и $F_1$;\n",
        "- ***train_test_split*** из модуля [model_selection](https://scikit-learn.org/stable/modules/classes.html?highlight=sklearn.model_selection#module-sklearn.model_selection) поможет разбить выборку на обучающую и тестовую;\n",
        "- ***StandardScaler*** из модуля [preprocessing](https://scikit-learn.org/stable/modules/classes.html?highlight=sklearn.preprocessing#module-sklearn.preprocessing) поможет преобразовать данные к стандартному виду;\n",
        "- ***LogisticRegression*** из модуля [linear_model](https://scikit-learn.org/stable/modules/classes.html?highlight=sklearn.linear_model#module-sklearn.linear_model) поможет подобрать коэффициенты для логистической регрессии."
      ]
    },
    {
      "cell_type": "code",
      "execution_count": 14,
      "metadata": {
        "id": "fGEAa02XBFAw"
      },
      "outputs": [],
      "source": [
        "\"\"\"Импортируем необходимые инструменты\"\"\"\n",
        "\n",
        "from sklearn.metrics import classification_report\n",
        "from sklearn.model_selection import train_test_split\n",
        "from sklearn.preprocessing import StandardScaler\n",
        "from sklearn.linear_model import LogisticRegression"
      ]
    },
    {
      "cell_type": "code",
      "execution_count": null,
      "metadata": {
        "colab": {
          "base_uri": "https://localhost:8080/"
        },
        "id": "jTXaYhisBFAw",
        "outputId": "1858b434-1847-48f2-e0f5-0912d07bbf73"
      },
      "outputs": [],
      "source": [
        "\"\"\"Разрабатываем классификатор\"\"\"\n",
        "\n",
        "y = df.Office                                   # Определяем результирующий признак\n",
        "X = df[['Order_time_sec', 'Delivery_time']]     # Определяем признаки\n",
        "\n",
        "\"\"\"С помощью функции train_test_split разбиваем выборку на обучающую и тестовую. Параметр test_size указывает на \n",
        "   долю тестовой выборки. Если параметр random_state отличен от None, т.е. имеет конкретное значение, то \n",
        "   генерируемые псевдослучайные величины будут иметь одни и те же значения при каждом вызове, и мы будем каждый \n",
        "   раз получать одинаковое разбиение на обучающую и тестовую выборки. Условимся, что, если не указано другое, то\n",
        "   по всему курсу обучения random_state=21\"\"\"\n",
        "X_train, X_test, y_train, y_test = train_test_split(X, y, test_size=0.25, random_state=21)\n",
        "\n",
        "\"\"\"Функция StandardScaler приведет значения признаков к стандартному виду z = (x-u)/s, где u - среднее значение,\n",
        "   а s - стандартное отклонение. Расчет среднего значения и стандартного отклонение осуществляется на выборке для \n",
        "   обучения, затем осуществляется преобразования данных для обучения и тестовых данных \"\"\"\n",
        "sc = StandardScaler()\n",
        "sc.fit(X_train)                                  # Находим среднее и стандартное отклонение обучающей выборки\n",
        "X_train_std = sc.transform(X_train)              # Преобразовываем обучающую выборку\n",
        "X_test_std = sc.transform(X_test)                # Преобразовываем тестовую выборку\n",
        "\n",
        "\"\"\"Формируем классификатор с помощью LogisticRegression. Коэффициенты уравнения логистической регрессии находятся\n",
        "   на обучающей выборке, затем с помощью найденного уравнения предсказывается класс объекта на тестовой выборке\"\"\"\n",
        "lr = LogisticRegression(random_state=21)\n",
        "lr.fit(X_train_std, y_train)                     # Находим коэффициенты уравнения логистической регрессии\n",
        "y_pred = lr.predict(X_test_std)                  # Определяем класс на значениях тестовых данных\n",
        "\n",
        "print(classification_report(y_test, y_pred))     # Публикуем результаты качества модели на тестовой выборке"
      ]
    },
    {
      "cell_type": "code",
      "execution_count": null,
      "metadata": {
        "colab": {
          "base_uri": "https://localhost:8080/"
        },
        "id": "Nf_P7bNBAKe3",
        "outputId": "89aac655-e56f-4b8f-998e-8ea9d2c1fbf6"
      },
      "outputs": [],
      "source": [
        "y_pred"
      ]
    },
    {
      "cell_type": "markdown",
      "metadata": {
        "id": "4SZXlreqBFAw"
      },
      "source": [
        "---\n",
        "\n",
        "Для анализа полученного результата напишем функцию *Processing_results()*, которой передаются значения:\n",
        "- sc - действующий (полученный при разработке классификатора) метод стандартизации данных;\n",
        "- lr - классификатор;\n",
        "- df - датафрейм;\n",
        "- target - название столбца целевого признака;\n",
        "- attribute_name - список названий столбцов признаков;\n",
        "- name - строка названия анализируемого результата;\n",
        "- add_schedule - список списков признаков, для которых необходимо построить дополнительные графики (необязательный параметр)"
      ]
    },
    {
      "cell_type": "code",
      "execution_count": 17,
      "metadata": {
        "id": "RAbtLMQLBFAw"
      },
      "outputs": [],
      "source": [
        "def Processing_results(sc, lr, df, target, attribute_name, name, add_schedule = []):\n",
        "    X_std = sc.transform(df[attribute_name])\n",
        "    new_col_name = []\n",
        "    for i, col_name in enumerate(attribute_name):\n",
        "        s = col_name + '_std_' + name\n",
        "        df[s] = X_std[:,i]\n",
        "        new_col_name.append(s)\n",
        "    y_pred = 'y_pred_' + name\n",
        "    Correct = 'Correct_' + name\n",
        "    df[y_pred] = lr.predict(X_std)\n",
        "    df[Correct] = df.Office == df[y_pred]\n",
        "    print(classification_report(df.Office, df[y_pred]))\n",
        "    sns.pairplot(df[[Correct] + new_col_name], hue = Correct, height=round(12/len(new_col_name), 1))\n",
        "    plt.show()\n",
        "    for k in range(len(add_schedule)):\n",
        "        i,j = add_schedule[k]\n",
        "        i = i+'_std_'+name\n",
        "        j = j+'_std_'+name\n",
        "        plt.scatter(df[i][True ^ df[Correct]], df[j][True ^ df[Correct]], color = 'red')\n",
        "        plt.scatter(df[i][df[Correct]], df[j][df[Correct]])\n",
        "        plt.legend(['Определены не верно', 'Определены верно'])\n",
        "        plt.xlabel(i)\n",
        "        plt.ylabel(j)\n",
        "        plt.show()\n",
        "    return df"
      ]
    },
    {
      "cell_type": "code",
      "execution_count": null,
      "metadata": {
        "colab": {
          "base_uri": "https://localhost:8080/",
          "height": 1000
        },
        "id": "w13P4aoHBFAx",
        "outputId": "8fc52ddc-8e71-4ca0-ff13-758ce69907f2",
        "scrolled": false
      },
      "outputs": [],
      "source": [
        "y = 'Ofice'\n",
        "x = ['Order_time_sec', 'Delivery_time']\n",
        "df = Processing_results(sc, lr, df, y, x, '1', [x])\n",
        "df"
      ]
    },
    {
      "cell_type": "code",
      "execution_count": null,
      "metadata": {
        "colab": {
          "base_uri": "https://localhost:8080/",
          "height": 1000
        },
        "id": "ZMIOdHjyBFAx",
        "outputId": "6a48aa6e-4d94-46dc-88f6-d3dc5a2bcba9",
        "scrolled": false
      },
      "outputs": [],
      "source": [
        "#df_test = pd.read_excel('iCafe_test.xlsx')\n",
        "df_test = pd.read_excel('/content/drive/MyDrive/data/iCafe_test.xlsx')\n",
        "df_test['Order_time_sec'] = pd.to_timedelta(df_test.Order_time)//np.timedelta64(1,'s')\n",
        "\n",
        "y = 'Ofice'\n",
        "x = ['Order_time_sec', 'Delivery_time']\n",
        "df_test = Processing_results(sc, lr, df_test, y, x, '1', [x])\n",
        "df_test"
      ]
    },
    {
      "cell_type": "markdown",
      "metadata": {
        "id": "IwmGuxfrBFAx"
      },
      "source": [
        "---\n",
        "\n",
        "# Задание 1\n",
        "\n",
        "Путем двойного контроля мы убедились, что модель не переобучена и демонстрирует не плохое качество, все метрики на общей обучающей выборке 0.88, на тестовой выборке - 0.91. Можно ли улучшить полученное решение? Для ответа на этот вопрос в начале еще раз посмотрим на графики:"
      ]
    },
    {
      "cell_type": "code",
      "execution_count": null,
      "metadata": {
        "colab": {
          "base_uri": "https://localhost:8080/",
          "height": 366
        },
        "id": "-ShQBISyBFAx",
        "outputId": "00579cb8-afa0-4587-944a-83baf73d92ce"
      },
      "outputs": [],
      "source": [
        "plt.subplot (2, 2, 1)\n",
        "plt.scatter(df.Order_time_sec[df.Office == 1], df.Delivery_time[df.Office == 1], color = 'red')\n",
        "plt.scatter(df.Order_time_sec[df.Office == 0], df.Delivery_time[df.Office == 0])\n",
        "plt.legend(['В офис', 'На дом'])\n",
        "plt.xlabel('Время поступления заказа (Order_time_sec)')\n",
        "plt.ylabel('Время доставки заказа (Delivery_time)')\n",
        "plt.plot([82000, 82000], [0,10], 'red')\n",
        "plt.plot([82000, 86400], [10,10], 'red')\n",
        "plt.title('Обучающая выборка, принадлежность к классам')\n",
        "\n",
        "plt.subplot (2, 2, 2)\n",
        "plt.scatter(df_test.Order_time_sec[df_test.Office == 1], df_test.Delivery_time[df_test.Office == 1], color = 'red')\n",
        "plt.scatter(df_test.Order_time_sec[df_test.Office == 0], df_test.Delivery_time[df_test.Office == 0])\n",
        "plt.legend(['В офис', 'На дом'])\n",
        "plt.xlabel('Время поступления заказа (Order_time_sec)')\n",
        "plt.ylabel('Время доставки заказа (Delivery_time)')\n",
        "plt.plot([82000, 82000], [0,10], 'red')\n",
        "plt.plot([82000, 86400], [10,10], 'red')\n",
        "plt.title('Тестовая выборка, принадлежность к классам')\n",
        "\n",
        "plt.subplot (2, 2, 3)\n",
        "plt.scatter(df.Order_time_sec[True^df.Correct_1], df.Delivery_time[True^df.Correct_1], color = 'red')\n",
        "plt.scatter(df.Order_time_sec[df.Correct_1], df.Delivery_time[df.Correct_1])\n",
        "plt.legend(['False', 'True'])\n",
        "plt.xlabel('Время поступления заказа (Order_time_sec)')\n",
        "plt.ylabel('Время доставки заказа (Delivery_time)')\n",
        "plt.plot([82000, 82000], [0,10], 'red')\n",
        "plt.plot([82000, 86400], [10,10], 'red')\n",
        "plt.title('Обучающая выборка, предсказание класса')\n",
        "\n",
        "plt.subplot (2, 2, 4)\n",
        "plt.scatter(df_test.Order_time_sec[True^df_test.Correct_1], df_test.Delivery_time[True^df_test.Correct_1], \n",
        "            color = 'red')\n",
        "plt.scatter(df_test.Order_time_sec[df_test.Correct_1], df_test.Delivery_time[df_test.Correct_1])\n",
        "plt.legend(['False', 'True'])\n",
        "plt.xlabel('Время поступления заказа (Order_time_sec)')\n",
        "plt.ylabel('Время доставки заказа (Delivery_time)')\n",
        "plt.plot([82000, 82000], [0,10], 'red')\n",
        "plt.plot([82000, 86400], [10,10], 'red')\n",
        "plt.title('Тестовая выборка, предсказание класса')\n",
        "plt.show()"
      ]
    },
    {
      "cell_type": "markdown",
      "metadata": {
        "id": "_k7UV7xYBFAx"
      },
      "source": [
        "На графиках мы видим одну и ту же область, где представители одного класса предсказываются неверно как на обучающей, так и на тестовой выборке. Попробуем исправить это!\n",
        "\n",
        "1. Вам необходимо написать функцию time_change(df), которая записывает в датафрейм df столбец Order_time_sec_delta и возвращает полученный датафрейм. Столбец Order_time_sec_delta отличается от столбца Order_time_sec константой. В столбце Order_time_sec отметки времени расположены так, что последний заказ \"на дом\" (Office = 0) оказывается на отметке 86399 секунд от начала дня (т.е. ровно через сутки после начала). В этой функции нужно \"сдвинуть\" время всех заказов циклично влево, ближе к началу дня, на дельту, равную разнице \\[24 часа - максимальное время заказа на дом во всем датафрейме].\n",
        "2. Вам необходимо написать функцию log_reg(y, X), которая принимает на вход целевой признак y и столбцы датафрейма X, представляющие собой признаки. Функция возвращает обученные объекты sc и lr"
      ]
    },
    {
      "cell_type": "code",
      "execution_count": null,
      "metadata": {
        "colab": {
          "base_uri": "https://localhost:8080/"
        },
        "id": "DB6DX1XxBqDH",
        "outputId": "ee6e44ac-01c2-450d-cdde-11151a233801"
      },
      "outputs": [],
      "source": [
        "df[df.Office == 0].Order_time_sec.max()"
      ]
    },
    {
      "cell_type": "code",
      "execution_count": 22,
      "metadata": {
        "id": "304kB4DbBFAx"
      },
      "outputs": [],
      "source": [
        "\"\"\"Выполнение задания 1\"\"\"\n",
        "\n",
        "def time_change(df):\n",
        "  delta = 60*24*60 - df[df.Office == 0].Order_time_sec.max()\n",
        "  df['Order_time_sec_delta'] = (df.Order_time_sec + delta - 1) % (24* 60 * 60)\n",
        "  return df\n",
        "\n",
        "def log_reg(y,X):\n",
        "  y = df.Office                                         # Определяем результирующий признак\n",
        "  X = df[['Order_time_sec_delta', 'Delivery_time']]     # Определяем признаки\n",
        "  X_train, X_test, y_train, y_test = train_test_split(X, y, test_size=0.25, random_state=21)\n",
        "  sc = StandardScaler()\n",
        "  sc.fit(X_train)                                       # Находим среднее и стандартное отклонение обучающей выборки\n",
        "  X_train_std = sc.transform(X_train)                   # Преобразовываем обучающую выборку\n",
        "  X_test_std = sc.transform(X_test)                     # Преобразовываем тестовую выборку\n",
        "  lr = LogisticRegression(random_state=21)\n",
        "  lr.fit(X_train_std, y_train)                          # Находим коэффициенты уравнения логистической регрессии\n",
        "  y_pred = lr.predict(X_test_std)                       # Определяем класс на значениях тестовых данных\n",
        "  return sc, lr\n",
        "    "
      ]
    },
    {
      "cell_type": "code",
      "execution_count": null,
      "metadata": {
        "colab": {
          "base_uri": "https://localhost:8080/",
          "height": 1000
        },
        "id": "HUyCbBlQBFAx",
        "outputId": "b4e5e3ff-bf1f-4621-be47-b485cbc4bfee",
        "scrolled": false
      },
      "outputs": [],
      "source": [
        "\"\"\"Запустите, после написания функций\"\"\"\n",
        "\n",
        "df = time_change(df)\n",
        "y = 'Office'\n",
        "x = ['Order_time_sec_delta', 'Delivery_time']\n",
        "sc_delta, lr_delta = log_reg(df[y], df[x])\n",
        "df = Processing_results(sc_delta, lr_delta, df, y, x, 'delta', [x])\n",
        "df"
      ]
    },
    {
      "cell_type": "code",
      "execution_count": null,
      "metadata": {
        "colab": {
          "base_uri": "https://localhost:8080/",
          "height": 1000
        },
        "id": "gjBEjbBnBFAy",
        "outputId": "b2d13a66-c8f3-411c-8a5e-0dff6ec4eb11",
        "scrolled": false
      },
      "outputs": [],
      "source": [
        "\"\"\"Запустите, если сработала предыдущая ячейка\"\"\"\n",
        "\n",
        "df_test = time_change(df_test)\n",
        "y = 'Office'\n",
        "x = ['Order_time_sec_delta', 'Delivery_time']\n",
        "df_test = Processing_results(sc_delta, lr_delta, df_test, y, x, 'delta', [x])\n",
        "df_test"
      ]
    },
    {
      "cell_type": "markdown",
      "metadata": {
        "id": "KVCiRhDeBFAy"
      },
      "source": [
        "***Рекомендуется выполнить задание перед рассмотрением дальнейшего материала***"
      ]
    },
    {
      "cell_type": "markdown",
      "metadata": {
        "id": "zaB5MasPBFAy"
      },
      "source": [
        "---\n",
        "\n",
        "Мы улучшили качество классификатора за счет обеспечения монотонности целевой переменной от признаков, т.е. теперь выполняютя правила:\n",
        "- чем больше момент времени поступления заказа, тем выше вероятность доставки на дом;\n",
        "- чем выше время доставки, тем выше вероятность вероятность доставки на дом.\n",
        "\n",
        "К сожалению, не всегда есть возможность обеспечить монотонность целевой переменной от признаков без применения каких-нибудь дополнительных инструментов.\n",
        "\n",
        "Можно ли улучшить качество классификатора еще каким-нибудь способом? Это не только возможно, но и необходимо. \n",
        "\n",
        "Одним из способов улучшения классификатора является увеличение порядка пространства признаков, например, если на плоскости достаточно тяжело провести линию, разделяющую классы, то в трехмерном пространстве уже можно найти плоскость, которая сделает это лучше.\n",
        "\n",
        "Все моменты времени необходимо преобразовывать через синус и косинус, формируя тем самым вместо одного два признака. Это становится тем более важным, если у нас вместо одного временного периода имеется несколько и существует возможность периодических колебаний.\n",
        "\n",
        "Преобразования производятся по следующим формулам:\n",
        "$$z_{sin} = sin\\left(\\frac{2\\cdot\\mathrm{\\pi} \\cdot \\mathrm{x}}{ \\mathrm{K} }\\right)$$ \n",
        "$$z_{cos} = cos\\left(\\frac{2\\cdot\\mathrm{\\pi} \\cdot \\mathrm{x}}{ \\mathrm{K} }\\right)$$ \n",
        "\n",
        "Здесь х - это значение момента времени, а К - значение временного периода в единицах измерения моментов времени.\n",
        "Например: \n",
        "- если моменты времени измеряются в секундах, а временной период равен суткам, то К=86400;\n",
        "- если моменты времени измеряются в днях, а временной период равен неделе, то К=7.\n",
        "\n",
        "Проведем преобразование времени поступления заказа:"
      ]
    },
    {
      "cell_type": "code",
      "execution_count": null,
      "metadata": {
        "colab": {
          "base_uri": "https://localhost:8080/",
          "height": 477
        },
        "id": "_Bv3mYwiBFAy",
        "outputId": "6b85c895-fc82-4ae8-a081-e7d93d70d6c3"
      },
      "outputs": [],
      "source": [
        "df['Order_sin'] = np.sin(df.Order_time_sec*math.pi/43200)\n",
        "df['Order_cos'] = np.cos(df.Order_time_sec*math.pi/43200)\n",
        "df"
      ]
    },
    {
      "cell_type": "markdown",
      "metadata": {
        "id": "kZXJvuLDBFAy"
      },
      "source": [
        "Построим графики целевого показателя в пространстве полученных признаков:"
      ]
    },
    {
      "cell_type": "code",
      "execution_count": null,
      "metadata": {
        "colab": {
          "base_uri": "https://localhost:8080/",
          "height": 300
        },
        "id": "reAAfJS5BFAy",
        "outputId": "b3522d1f-266d-4ab9-8fa6-3b1976ffd316"
      },
      "outputs": [],
      "source": [
        "plt.scatter(df.Order_sin[df.Office == 1], df.Order_cos[df.Office == 1], color = 'red')\n",
        "plt.scatter(df.Order_sin[df.Office == 0], df.Order_cos[df.Office == 0])\n",
        "plt.legend(['В офис', 'На дом'])\n",
        "plt.xlabel('Синус времени заказа')\n",
        "plt.ylabel('Косинус времени заказа')\n",
        "plt.show()"
      ]
    },
    {
      "cell_type": "code",
      "execution_count": null,
      "metadata": {
        "colab": {
          "base_uri": "https://localhost:8080/",
          "height": 300
        },
        "id": "oLCyD1qxBFAy",
        "outputId": "1b2adc5a-7f21-4015-8416-f48adb42923a",
        "scrolled": false
      },
      "outputs": [],
      "source": [
        "sns.scatterplot(x = 'Order_sin', y = 'Order_cos', data = df, hue = 'Office')\n",
        "plt.show()"
      ]
    },
    {
      "cell_type": "code",
      "execution_count": null,
      "metadata": {
        "colab": {
          "base_uri": "https://localhost:8080/",
          "height": 888
        },
        "id": "hESW-GtTBFAz",
        "outputId": "51957654-0a93-44c0-c9a6-2667cdc9910b"
      },
      "outputs": [],
      "source": [
        "sns.pairplot(df[['Office', 'Delivery_time', 'Order_sin', 'Order_cos']], hue=\"Office\", height=4)\n",
        "plt.show()"
      ]
    },
    {
      "cell_type": "markdown",
      "metadata": {
        "id": "8hZtZb0kBFAz"
      },
      "source": [
        "Построим классификатор на преобразованых данных"
      ]
    },
    {
      "cell_type": "code",
      "execution_count": null,
      "metadata": {
        "colab": {
          "base_uri": "https://localhost:8080/",
          "height": 1000
        },
        "id": "HPiJ8ef3BFAz",
        "outputId": "931d2818-ac1b-4951-d98f-5ebc0695ce9c",
        "scrolled": false
      },
      "outputs": [],
      "source": [
        "y = df.Office\n",
        "X = df[['Order_sin', 'Order_cos', 'Delivery_time']]\n",
        "X_train, X_test, y_train, y_test = train_test_split(X, y, test_size=0.25, random_state=21)\n",
        "\n",
        "sc_2 = StandardScaler()\n",
        "sc_2.fit(X_train)\n",
        "X_train_std = sc_2.transform(X_train)\n",
        "X_test_std = sc_2.transform(X_test)\n",
        "\n",
        "lr_2 = LogisticRegression(random_state=21)\n",
        "lr_2.fit(X_train_std, y_train)\n",
        "\n",
        "y_pred_2 = lr_2.predict(X_test_std)\n",
        "\n",
        "print(classification_report(y_test, y_pred_2))\n",
        "\n",
        "y = 'Office'\n",
        "X = ['Order_sin', 'Order_cos', 'Delivery_time']\n",
        "x = ['Order_sin', 'Order_cos']\n",
        "df = Processing_results(sc_2, lr_2, df, y, X, '2', [x])\n",
        "df"
      ]
    },
    {
      "cell_type": "code",
      "execution_count": null,
      "metadata": {
        "colab": {
          "base_uri": "https://localhost:8080/",
          "height": 1000
        },
        "id": "11VaHpqIBFAz",
        "outputId": "a9cb6465-e185-450c-b1b8-7af87547a38c",
        "scrolled": false
      },
      "outputs": [],
      "source": [
        "df_test['Order_sin'] = np.sin(df_test.Order_time_sec*math.pi/43200)\n",
        "df_test['Order_cos'] = np.cos(df_test.Order_time_sec*math.pi/43200)\n",
        "\n",
        "y = 'Office'\n",
        "X = ['Order_sin', 'Order_cos', 'Delivery_time']\n",
        "x = ['Order_sin', 'Order_cos']\n",
        "df_test = Processing_results(sc_2, lr_2, df_test, y, X, '2', [x])\n",
        "df_test"
      ]
    },
    {
      "cell_type": "markdown",
      "metadata": {
        "id": "9BQCyEBABFAz"
      },
      "source": [
        "На общей выборке метрики показывают такой же результат, как и в задании 1, на тестовой выборе результат немного хуже."
      ]
    },
    {
      "cell_type": "markdown",
      "metadata": {
        "id": "ATiWo7JUBFA0"
      },
      "source": [
        "---\n",
        "\n",
        "# Задание 2\n",
        "\n",
        "Возьмите данные со смещенным временем из задания 2. Произведите преобразование через синус и косинус. Постройте классификатор. Сравните результаты."
      ]
    },
    {
      "cell_type": "code",
      "execution_count": null,
      "metadata": {
        "colab": {
          "base_uri": "https://localhost:8080/",
          "height": 477
        },
        "id": "qzwIiZgKBFA0",
        "outputId": "acf6d50f-ee35-4f58-fc59-fc4d831e07e8"
      },
      "outputs": [],
      "source": [
        "\"\"\"Решение задания 2\"\"\"\n",
        "df['Order_sin_delta'] = np.sin(df.Order_time_sec_delta*math.pi/43200)\n",
        "df['Order_cos_delta'] = np.cos(df.Order_time_sec_delta*math.pi/43200)\n",
        "df"
      ]
    },
    {
      "cell_type": "code",
      "execution_count": null,
      "metadata": {
        "colab": {
          "base_uri": "https://localhost:8080/",
          "height": 300
        },
        "id": "vTBZRbYfLbRI",
        "outputId": "34486fde-9224-4d4d-97d5-c84ebaafbbe4"
      },
      "outputs": [],
      "source": [
        "plt.scatter(df.Order_sin_delta[df.Office == 1], df.Order_cos_delta[df.Office == 1], color = 'red')\n",
        "plt.scatter(df.Order_sin_delta[df.Office == 0], df.Order_cos_delta[df.Office == 0])\n",
        "plt.legend(['В офис', 'На дом'])\n",
        "plt.xlabel('Синус времени заказа')\n",
        "plt.ylabel('Косинус времени заказа')\n",
        "plt.show()"
      ]
    },
    {
      "cell_type": "code",
      "execution_count": null,
      "metadata": {
        "colab": {
          "base_uri": "https://localhost:8080/",
          "height": 300
        },
        "id": "r48Dx33OLt7I",
        "outputId": "7ed078f5-5508-4492-f944-60bda5d44d2d"
      },
      "outputs": [],
      "source": [
        "sns.scatterplot(x = 'Order_sin_delta', y = 'Order_cos_delta', data = df, hue = 'Office')\n",
        "plt.show()"
      ]
    },
    {
      "cell_type": "code",
      "execution_count": null,
      "metadata": {
        "colab": {
          "base_uri": "https://localhost:8080/",
          "height": 888
        },
        "id": "udL4AW4XL53U",
        "outputId": "e8c19d21-4e74-4ece-fbc9-ea71e4f6042e"
      },
      "outputs": [],
      "source": [
        "sns.pairplot(df[['Office', 'Delivery_time', 'Order_sin_delta', 'Order_cos_delta']], hue=\"Office\", height=4)\n",
        "plt.show()"
      ]
    },
    {
      "cell_type": "code",
      "execution_count": null,
      "metadata": {
        "colab": {
          "base_uri": "https://localhost:8080/",
          "height": 1000
        },
        "id": "9S8qzp1GMPso",
        "outputId": "b06adeb5-5138-4034-f08e-7598f51d1a13"
      },
      "outputs": [],
      "source": [
        "y = df.Office\n",
        "X = df[['Order_sin_delta', 'Order_cos_delta', 'Delivery_time']]\n",
        "X_train, X_test, y_train, y_test = train_test_split(X, y, test_size=0.25, random_state=21)\n",
        "\n",
        "sc_2 = StandardScaler()\n",
        "sc_2.fit(X_train)\n",
        "X_train_std = sc_2.transform(X_train)\n",
        "X_test_std = sc_2.transform(X_test)\n",
        "\n",
        "lr_2 = LogisticRegression(random_state=21)\n",
        "lr_2.fit(X_train_std, y_train)\n",
        "\n",
        "y_pred_2 = lr_2.predict(X_test_std)\n",
        "\n",
        "print(classification_report(y_test, y_pred_2))\n",
        "\n",
        "y = 'Office'\n",
        "X = ['Order_sin_delta', 'Order_cos_delta', 'Delivery_time']\n",
        "x = ['Order_sin_delta', 'Order_cos_delta']\n",
        "df = Processing_results(sc_2, lr_2, df, y, X, '2', [x])\n",
        "df"
      ]
    },
    {
      "cell_type": "code",
      "execution_count": null,
      "metadata": {
        "colab": {
          "base_uri": "https://localhost:8080/",
          "height": 1000
        },
        "id": "QjLyZp3cNO5m",
        "outputId": "fdb7ce96-09e4-4376-c16e-47b34d38eef3"
      },
      "outputs": [],
      "source": [
        "df_test['Order_sin_delta'] = np.sin(df_test.Order_time_sec_delta*math.pi/43200)\n",
        "df_test['Order_cos_delta'] = np.cos(df_test.Order_time_sec_delta*math.pi/43200)\n",
        "\n",
        "y = 'Office'\n",
        "X = ['Order_sin_delta', 'Order_cos_delta', 'Delivery_time']\n",
        "x = ['Order_sin_delta', 'Order_cos_delta']\n",
        "df_test = Processing_results(sc_2, lr_2, df_test, y, X, '2', [x])\n",
        "df_test"
      ]
    }
  ],
  "metadata": {
    "colab": {
      "collapsed_sections": [],
      "name": "d02_task.ipynb",
      "provenance": []
    },
    "kernelspec": {
      "display_name": "Python 3",
      "language": "python",
      "name": "python3"
    },
    "language_info": {
      "codemirror_mode": {
        "name": "ipython",
        "version": 3
      },
      "file_extension": ".py",
      "mimetype": "text/x-python",
      "name": "python",
      "nbconvert_exporter": "python",
      "pygments_lexer": "ipython3",
      "version": "3.7.6"
    }
  },
  "nbformat": 4,
  "nbformat_minor": 0
}
