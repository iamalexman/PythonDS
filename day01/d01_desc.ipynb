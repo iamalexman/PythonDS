{
  "cells": [
    {
      "cell_type": "markdown",
      "metadata": {
        "id": "AeV1bOHvRJP5"
      },
      "source": [
        "# day01 - Трудно жить без даты!\n",
        "\n",
        "---"
      ]
    },
    {
      "cell_type": "markdown",
      "metadata": {
        "id": "ZhuzkKMiRJP8"
      },
      "source": [
        "Импортируем библиотеки с которыми мы уже встречались, и которые нам понадобятся в дальнейшем:"
      ]
    },
    {
      "cell_type": "code",
      "execution_count": null,
      "metadata": {
        "id": "qIW6Sa8cRJP9"
      },
      "outputs": [],
      "source": [
        "import pandas as pd\n",
        "import numpy as np\n",
        "import math\n",
        "from datetime import datetime, timedelta, date, time"
      ]
    },
    {
      "cell_type": "markdown",
      "metadata": {
        "id": "94LQ3UfcRJP9"
      },
      "source": [
        "---\n",
        "\n",
        "## Неоднозначное соответствие единиц измерения времени\n",
        "\n",
        "В этом разделе представлены величины, имеющие несколько значений. Именно эти величины чаще всего используются в повседневной жизни, поэтому необходимо научиться их рассчитывать.\n",
        "\n",
        "- месяц - примерно 30 суток (от 28 до 31):\n",
        "    - январь, март, май, июль, август, октябрь и декабрь - 31 день\n",
        "    - апрель, июнь, сентябрь, ноябрь - 30 дней\n",
        "    - февраль - 28 или 29 дней\n",
        "- в году от 52 до 54 недель в зависимости от способа счисления, которые различаются, например, в США и Канаде от Европы\n",
        "- согласно ISO 8601, первой неделей года считается неделя, содержащая первый четверг года\n",
        "    - если 1 января или 31 декабря выпадает на четверг (или 1 января выпадает на среду в високосный год), то год содержит 53 недели\n",
        "    - в остальных случаях год содержит 52 недели\n",
        "- год содержит 365 или 366 дней\n",
        "- Високосный год определяется согласно следующим правилам:\n",
        "    - если год без остатка делится на 400, то это високосный год\n",
        "    - если год без остатка делится на 4 и при делении на 100 имеет остаток, то это високосный год\n",
        "    - в остальных случаях год не является високосным"
      ]
    },
    {
      "cell_type": "markdown",
      "metadata": {
        "id": "6_Mi38f7RJP-"
      },
      "source": [
        "---\n",
        "\n",
        "Научимся определять високосный год. Напишем для этого функцию, которая будет возвращать True, если год високосный и False, в противном случае:"
      ]
    },
    {
      "cell_type": "code",
      "execution_count": null,
      "metadata": {
        "id": "eiXeZdgvRJP_"
      },
      "outputs": [],
      "source": [
        "def day366(year):\n",
        "    return (year % 4 == 0) and (year % 100 != 0) or (year % 400 == 0)"
      ]
    },
    {
      "cell_type": "markdown",
      "metadata": {
        "id": "xo4RMlkkRJP_"
      },
      "source": [
        "---\n",
        "\n",
        "Проверим, как работает наша функция на тестовых данных 2000, 2019, 2020, 2021 и 2100 годов:"
      ]
    },
    {
      "cell_type": "code",
      "execution_count": null,
      "metadata": {
        "colab": {
          "base_uri": "https://localhost:8080/"
        },
        "id": "lMarIU2DRJQA",
        "outputId": "d78ac43e-36bb-46a8-8b14-01df5c01975f"
      },
      "outputs": [
        {
          "name": "stdout",
          "output_type": "stream",
          "text": [
            "1900 False\n",
            "2000 True\n",
            "2019 False\n",
            "2020 True\n",
            "2021 False\n",
            "2100 False\n"
          ]
        }
      ],
      "source": [
        "years = [1900, 2000, 2019, 2020, 2021, 2100]\n",
        "for j in years:\n",
        "    print(j, day366(j))"
      ]
    },
    {
      "cell_type": "markdown",
      "metadata": {
        "id": "XnFW9R_VRJQA"
      },
      "source": [
        "---\n",
        "\n",
        "# Задание 1\n",
        "\n",
        "Поздравить знакомого с Днем Рождения коротким сообщением для большинства из нас не составляет труда. С другой стороны проявленный акт внимания создает хорошее настроение и сохраняет социальные связи. Напишите код, который определяет дату рождения в игровой форме.  \n",
        "Пример:\n",
        "Один человек выясняет у другого дату рождения:\n",
        "   - У тебя День рождения в июне?\n",
        "   - Раньше.\n",
        "   - В апреле?\n",
        "   - Да.\n",
        "   - 15-го числа?\n",
        "   - Позже.\n",
        "   - 20-го?\n",
        "   - Да.\n",
        "   - У тебя День Рождения 20 апреля\n",
        "   \n",
        "Механизм взаимодействия:\n",
        "1. Функция get_month() формирует запросы к функции month_of_birth(month)\n",
        "2. Функция month_of_birth(month, m_o_b = number_of_month) проверяет month == m_o_b:\n",
        "  - Если равны, то функция возвращает значение 'да'\n",
        "  - Если month > m_o_b, то значение 'раньше'\n",
        "  - Если month < m_o_b, то значение 'позже'\n",
        "3. Как только получено значение 'да', get_month() прекращает работу и возвращает значение полученного month, переведенного в название месяца\n",
        "4. Функция get_day() формирует запросы к функции day_of_birth(day)\n",
        "5. Функция day_of_birth(day, d_o_b = number_of_day) проверяет day == d_o_b:\n",
        "    - Если равны, то функция возвращает значение 'да'\n",
        "    - Если day > d_o_b, то значение 'раньше'\n",
        "    - Если day < d_o_b, то значение 'позже'\n",
        "6. Как только получено значение 'да', get_day() прекращает работу и возвращает значение полученного day\n",
        "7. Публикация результата в формате \"число месяц\", например, 20 апреля\n",
        "Вам нужно написать код так, чтобы, поменявшись функциями get, вам не пришлось редактировать код для его выполнения. Постарайтесь разработать алгоритм, чтобы общее число запросов не превышало 10.\n",
        "\n",
        "*Рекомендация: Для того, чтобы точно были совместимы возвращаемые функциями ответы, лучше принудительно приводить строку к строчным буквам и без пробелов. Для этого используйте следующий код:*\n",
        "\n",
        "***s = s.lower().replace(' ', '')*** *здесь s - это строка, требующая изменений*\n",
        "\n",
        "Дополнительная информация по работе со строковыми переменными:\n",
        "\n",
        "[Официальная документация](https://docs.python.org/3/library/stdtypes.html#text-sequence-type-str)\n",
        "\n",
        "[Справочник основных функций на русском языке](https://pythonworld.ru/tipy-dannyx-v-python/stroki-funkcii-i-metody-strok.html)\n",
        "\n",
        "---"
      ]
    },
    {
      "cell_type": "code",
      "execution_count": 202,
      "metadata": {
        "colab": {
          "base_uri": "https://localhost:8080/"
        },
        "id": "_In5W13NRJQC",
        "outputId": "d0ef88f1-cdc4-4124-946f-d48faed13403"
      },
      "outputs": [
        {
          "name": "stdout",
          "output_type": "stream",
          "text": [
            "Введите корректный месяц, числом: 1\n",
            "Введите корректную дату числом: 31\n",
            "15\n",
            "23\n",
            "27\n",
            "29\n",
            "31\n",
            "31 января\n"
          ]
        }
      ],
      "source": [
        "\"\"\"Решение задания 1\"\"\"\n",
        "\n",
        "import sys\n",
        "\n",
        "number_of_month = int(input(\"Введите корректный месяц, числом: \")) # глобальная переменная месяца даты рождения, необходимо присвоение значения \n",
        "if (number_of_month > 12 or number_of_month < 1): \n",
        "  sys.exit(\"Вы ввели не целое число или число вне диапазона 1 - 12\")\n",
        "\n",
        "number_of_day = int(input(\"Введите корректную дату числом: \")) # глобальная переменная дня даты рождения, необходимо присвоение значения \n",
        "if (number_of_day < 1 or number_of_day > 31): \n",
        "  sys.exit (\"Вы ввели не целое число или число вне диапазона 1 - 31\")\n",
        "\n",
        "def month_of_birth(month, m_o_b = number_of_month):\n",
        "    \"Функция принимает значение month, сравнивает с m_o_b и возвращает результаты сравнения\"\n",
        "    if month > m_o_b:\n",
        "      return \"раньше\"\n",
        "    elif month < m_o_b:\n",
        "      return \"позже\"\n",
        "    else :\n",
        "      return \"да\"\n",
        "    \n",
        "def day_of_birth(day, d_o_b = number_of_day):\n",
        "    \"Функция принимает значение day, сравнивает его с d_o_b и возвращает результаты сравнения\"\n",
        "    if day > d_o_b:\n",
        "      return \"раньше\"\n",
        "    elif day < d_o_b:\n",
        "      return \"позже\"\n",
        "    else :\n",
        "      return \"да\"\n",
        "    \n",
        "def get_month():\n",
        "    \"\"\"Функция формирует запросы month и анализирует результаты сравнения, переводит номер найденного месяца в \n",
        "    строку его названия и возвращает результат\"\"\"\n",
        "\n",
        "    months = { 1:\"января\", 2:\"февраля\" , 3:\"марта\", 4:\"апреля\", 5:\"мая\", 6:\"июня\", 7:\"июля\", 8:\"августа\", 9:\"сентября\", 10:\"октября\", 11:\"ноября\", 12:\"декабря\" }\n",
        "    start = 1;\n",
        "    end = 12;\n",
        "    middle = (end - start + 1) // 2\n",
        "  \n",
        "    while (months.get(middle) != \"да\"):\n",
        "      if (month_of_birth(middle) == \"позже\"):\n",
        "        start = middle + 1\n",
        "        middle = middle + (end - start + 1) // 2\n",
        "        if (end - middle == 1):\n",
        "           return months.get(middle + 1)\n",
        "      elif (month_of_birth(middle) == \"раньше\"):\n",
        "        end = middle - 1\n",
        "        middle = middle - (end - start + 1) // 2\n",
        "        if (middle - start == 1):\n",
        "          return months.get(middle - 1)\n",
        "      else:\n",
        "        return months.get(middle)\n",
        "    \n",
        "def get_day():\n",
        "    \"Функция формирует запросы day и анализирует результаты сравнения, возвращает результат\"\n",
        "    days = { 1:1, 2:2, 3:3, 4:4, 5:5, 6:6, 7:7, 8:8, 9:9, 10:10,\n",
        "            11:11, 12:12, 13:13, 14:14, 15:15, 16:16, 17:17, 18:18, 19:19, 20:20,\n",
        "            21:21, 22:22, 23:23, 24:24, 25:25, 26:26, 27:27, 28:28, 29:29, 30:30, 31:31 }\n",
        "    start = 1;\n",
        "    end = 31;\n",
        "    middle = (end - start + 1) // 2\n",
        "    \n",
        "    while(days.get(middle) != \"да\"):\n",
        "      if (day_of_birth(middle) == \"позже\"):\n",
        "        start = middle + 1\n",
        "        middle = middle + (end - start + 1) // 2\n",
        "        if (end - middle == 1):\n",
        "          if (days.get(middle) == \"да\"):\n",
        "            return days.get(middle)\n",
        "          else:\n",
        "            middle = middle + 1\n",
        "      elif (day_of_birth(middle) == \"раньше\"):\n",
        "        end = middle - 1\n",
        "        middle = middle - (end - start + 1) // 2\n",
        "        if (middle - start == 1):\n",
        "          if (days.get(middle) == \"да\"):\n",
        "            return days.get(middle)\n",
        "          else:\n",
        "            middle = middle - 1\n",
        "      else:\n",
        "        return days.get(middle)\n",
        "\n",
        "\n",
        "def birthday():                    # функция, запускающая процесс определения даты рождения и выводящая результат\n",
        "    print(get_day(), get_month())\n",
        "    \n",
        "birthday()"
      ]
    },
    {
      "cell_type": "markdown",
      "metadata": {
        "id": "KZwiFqJoRJQD"
      },
      "source": [
        "2013\n",
        "313---\n",
        "\n",
        "## Классы и методы модуля DateTime\n",
        "\n",
        "Модуль [DateTime](https://docs.python.org/3/library/datetime.html) предназначен для управления датами и временем в Python. "
      ]
    },
    {
      "cell_type": "code",
      "execution_count": 33,
      "metadata": {
        "id": "V6kDfZgfRJQD"
      },
      "outputs": [],
      "source": [
        "from datetime import datetime, timedelta, date, time"
      ]
    },
    {
      "cell_type": "code",
      "execution_count": 34,
      "metadata": {
        "colab": {
          "base_uri": "https://localhost:8080/"
        },
        "id": "mZoSRWmQRJQD",
        "outputId": "2cac7e7e-708e-49c3-944f-cdb1357ea91b"
      },
      "outputs": [
        {
          "data": {
            "text/plain": [
              "datetime.datetime(2022, 4, 3, 14, 8, 15, 438545)"
            ]
          },
          "execution_count": 34,
          "metadata": {},
          "output_type": "execute_result"
        }
      ],
      "source": [
        "Time_Now = datetime.now() # возвращает текущие дату и время (год, месяц, число, час, минута, секунда, микросекунда)\n",
        "Time_Now "
      ]
    },
    {
      "cell_type": "code",
      "execution_count": 35,
      "metadata": {
        "colab": {
          "base_uri": "https://localhost:8080/"
        },
        "id": "atWiWSesRJQE",
        "outputId": "a26e9c71-6030-4db3-9294-d53cb8a5d7c8"
      },
      "outputs": [
        {
          "data": {
            "text/plain": [
              "datetime.date(2022, 4, 3)"
            ]
          },
          "execution_count": 35,
          "metadata": {},
          "output_type": "execute_result"
        }
      ],
      "source": [
        "datetime.date(Time_Now) # отсекает время и оставляет только дату"
      ]
    },
    {
      "cell_type": "code",
      "execution_count": 36,
      "metadata": {
        "colab": {
          "base_uri": "https://localhost:8080/"
        },
        "id": "eGiSC4U-RJQE",
        "outputId": "47b32827-c6e0-4c2a-e4af-5e561b4af527"
      },
      "outputs": [
        {
          "data": {
            "text/plain": [
              "datetime.time(14, 8, 15, 438545)"
            ]
          },
          "execution_count": 36,
          "metadata": {},
          "output_type": "execute_result"
        }
      ],
      "source": [
        "datetime.time(Time_Now) # отсекает дату, оставляя только время"
      ]
    },
    {
      "cell_type": "code",
      "execution_count": 37,
      "metadata": {
        "colab": {
          "base_uri": "https://localhost:8080/"
        },
        "id": "uUF05YO8RJQE",
        "outputId": "3c777a15-b4e7-40cb-ad63-f8528e03edf2"
      },
      "outputs": [
        {
          "name": "stdout",
          "output_type": "stream",
          "text": [
            "2022-04-03T14:08:15.438545\n",
            "2022-04-03 14:08:15.438545\n",
            "2022-04-03 14:08:15\n"
          ]
        }
      ],
      "source": [
        "print(datetime.isoformat(Time_Now, sep='T'))                       # Дата и время с разделителем 'T'\n",
        "print(datetime.isoformat(Time_Now, sep=' '))                       # Дата и время с разделителем ' '\n",
        "print(datetime.isoformat(Time_Now, timespec = 'seconds', sep=' ')) # С детализацией до секунд"
      ]
    },
    {
      "cell_type": "code",
      "execution_count": 38,
      "metadata": {
        "colab": {
          "base_uri": "https://localhost:8080/"
        },
        "id": "AGNUwscsRJQF",
        "outputId": "e8742f13-db56-4943-bcc5-0b13c3eb4e32"
      },
      "outputs": [
        {
          "data": {
            "text/plain": [
              "(2022, 13, 7)"
            ]
          },
          "execution_count": 38,
          "metadata": {},
          "output_type": "execute_result"
        }
      ],
      "source": [
        "datetime.isocalendar(Time_Now) # Возвращает в соответствии с ISO год, номер недели, номер дня недели"
      ]
    },
    {
      "cell_type": "code",
      "execution_count": 39,
      "metadata": {
        "colab": {
          "base_uri": "https://localhost:8080/"
        },
        "id": "tR4d66PDRJQF",
        "outputId": "0f6e50a1-b28e-40ef-ee53-13c0b8869b33"
      },
      "outputs": [
        {
          "data": {
            "text/plain": [
              "7"
            ]
          },
          "execution_count": 39,
          "metadata": {},
          "output_type": "execute_result"
        }
      ],
      "source": [
        "datetime.isoweekday(Time_Now) # Номер дня недели (понедельник - 1)"
      ]
    },
    {
      "cell_type": "code",
      "execution_count": 40,
      "metadata": {
        "colab": {
          "base_uri": "https://localhost:8080/"
        },
        "id": "QjEvaFwRRJQF",
        "outputId": "4338ded0-4764-4cbc-e7b9-b58682c762be"
      },
      "outputs": [
        {
          "data": {
            "text/plain": [
              "datetime.datetime(2021, 1, 1, 0, 0, 1)"
            ]
          },
          "execution_count": 40,
          "metadata": {},
          "output_type": "execute_result"
        }
      ],
      "source": [
        "new_year = datetime.strptime('2021-01-01 00:00:01', '%Y-%m-%d %H:%M:%S') # Распознаем из строки дату и время \n",
        "new_year                                                                 # согласно формату '%Y-%m-%d %H:%M:%S'"
      ]
    },
    {
      "cell_type": "code",
      "execution_count": 41,
      "metadata": {
        "colab": {
          "base_uri": "https://localhost:8080/",
          "height": 58
        },
        "id": "5SMqIM5ORJQG",
        "outputId": "8149e897-a951-4b25-acff-7b231ffda614"
      },
      "outputs": [
        {
          "data": {
            "application/vnd.google.colaboratory.intrinsic+json": {
              "type": "string"
            },
            "text/plain": [
              "'Friday, 01. January 2021 00:00'"
            ]
          },
          "execution_count": 41,
          "metadata": {},
          "output_type": "execute_result"
        }
      ],
      "source": [
        "new_year.strftime(\"%A, %d. %B %Y %H:%M\") # преобразуем дату и время к строке"
      ]
    },
    {
      "cell_type": "code",
      "execution_count": 42,
      "metadata": {
        "colab": {
          "base_uri": "https://localhost:8080/"
        },
        "id": "lvIN20stRJQG",
        "outputId": "0c8e945d-d30f-4516-cca9-6c317b5dabdd"
      },
      "outputs": [
        {
          "data": {
            "text/plain": [
              "datetime.timedelta(days=457, seconds=50894, microseconds=438545)"
            ]
          },
          "execution_count": 42,
          "metadata": {},
          "output_type": "execute_result"
        }
      ],
      "source": [
        "delta = Time_Now - new_year # Разница между датами, выраженная в днях, секундах и микросекундах\n",
        "delta"
      ]
    },
    {
      "cell_type": "code",
      "execution_count": 44,
      "metadata": {
        "colab": {
          "base_uri": "https://localhost:8080/"
        },
        "id": "j6SVHngTRJQH",
        "outputId": "0d1fa234-40b3-42dd-c22e-cd85225bbf43"
      },
      "outputs": [
        {
          "data": {
            "text/plain": [
              "457"
            ]
          },
          "execution_count": 44,
          "metadata": {},
          "output_type": "execute_result"
        }
      ],
      "source": [
        "delta.days"
      ]
    },
    {
      "cell_type": "code",
      "execution_count": null,
      "metadata": {
        "id": "Tn_sc_dyRJQH",
        "outputId": "ada2f3e7-841c-4d19-c5dc-b51c8a90a527"
      },
      "outputs": [
        {
          "data": {
            "text/plain": [
              "17411"
            ]
          },
          "execution_count": 15,
          "metadata": {},
          "output_type": "execute_result"
        }
      ],
      "source": [
        "delta.seconds"
      ]
    },
    {
      "cell_type": "markdown",
      "metadata": {
        "id": "68inDQGJRJQH"
      },
      "source": [
        "---\n",
        "\n",
        "# Задание 2\n",
        "\n",
        "Требуется написать код, рассчитывающий количество рабочих часов с использованием методов модуля datetime.\n",
        "Требования к коду:\n",
        "1. Написать функцию *input_date()*, которая запрашивает у пользователя диапазон дат, на котором считается рабочее время. Граничные даты включаются в расчет. Функция возвращает две переменные с датами *start_date, end_date*.\n",
        "2. Написать функцию *date_to_datetime(start_date, end_date)*, которая преобразует даты в формат datetime. Функция возвращает переменные *start_date, end_date*, преобразованные к формату datetime.\n",
        "3. Написать функцию *delta_time(start_date, end_date)*, которая рассчитывает разницу во времени. По результату работы функции, в переменную *delta* функции, которая вызвала delta_time, должно быть записано общее количество оцениваемых дней.\n",
        "4. Написать функцию *day_of_the_week(start_date)*, которая возвращает номер дня недели, соответствующий началу оцениваемого периода, в переменную *start_day_of_the_week*.\n",
        "5. Написать функцию *calculating_hours(start_day_of_the_week, delta)*, которая возвращает количество рабочих часов за указанный период (и, таким образом, является точкой входа в нашу программу).\n",
        "6. Сформировать тестовые данные и протестировать программу.\n",
        "\n",
        "Упрощения:\n",
        "1. Пятидневная рабочая неделя, суббота и воскресенье - выходные;\n",
        "2. Каждый день отрабатывается ровно 8 часов;\n",
        "3. Праздники, отгулы, отпуска и больничные отсутствуют"
      ]
    },
    {
      "cell_type": "code",
      "execution_count": null,
      "metadata": {
        "colab": {
          "base_uri": "https://localhost:8080/"
        },
        "id": "wpgC_lciRJQI",
        "outputId": "556511bf-ffd9-474f-eb18-e1c4bc4cc1e4"
      },
      "outputs": [],
      "source": [
        "\"\"\"Решение задания 2\"\"\"\n",
        "\n",
        "import re\n",
        "from datetime import datetime, timedelta, date, time\n",
        "\n",
        "def input_year():\n",
        "  startYear = input(\"Input correct year, please: 1970 - today \")\n",
        "  if re.findall(r'\\d{4}', startYear):\n",
        "    startYear = int(startYear)\n",
        "    if startYear < 0:\n",
        "      print(\"Error: wrong year!\")\n",
        "      return(-1)\n",
        "  else:\n",
        "    print(\"Error: wrong year!\")\n",
        "    return(-1)\n",
        "  return startYear\n",
        "\n",
        "def input_month():\n",
        "  startMonth = input(\"Input correct month, please: 01 - 12 \")\n",
        "  if re.findall(r'\\d{2}', startMonth):\n",
        "    startMonth = int(startMonth)\n",
        "    if startMonth < 1 or startMonth > 12 :\n",
        "      print(\"Error: wrong month!\")\n",
        "      return(-1)\n",
        "  else:\n",
        "    print(\"Error: wrong month!\")\n",
        "    return(-1)\n",
        "  return startMonth\n",
        "\n",
        "def input_day():\n",
        "  startDay = input(\"Input correct day, please: 01 - 31 \")\n",
        "  if re.findall(r'\\d{2}', startDay):\n",
        "    startDay = int(startDay)\n",
        "    if startDay < 1 or startDay > 31:\n",
        "      print(\"Error: wrong day!\")\n",
        "      return(-1)\n",
        "  else:\n",
        "    print(\"Error: wrong day!\")\n",
        "    return(-1)\n",
        "  return startDay\n",
        "\n",
        "\n",
        "def input_date():\n",
        "\n",
        "  startDate = [0]\n",
        "\n",
        "  for i in startDate:\n",
        "    startDate = [input_year()]\n",
        "    if i >= 0:\n",
        "      startDate += [input_month()]\n",
        "    if i >= 0:\n",
        "      startDate += [input_day()]\n",
        "\n",
        "  resStart = str(startDate[0]) + \"-\" + str(startDate[1]) + \"-\" + str(startDate[2])\n",
        "  return resStart\n",
        "    \n",
        "def date_to_datetime(start_date, end_date):\n",
        "    start = datetime.strptime(start_date, \"%Y-%m-%d\")\n",
        "    end = datetime.strptime(end_date, \"%Y-%m-%d\")\n",
        "    return [start, end]\n",
        "\n",
        "def delta_time(start_date, end_date):\n",
        "    delta = end_date - start_date\n",
        "    return delta.days\n",
        "\n",
        "def day_of_the_week(start_date):\n",
        "  date = datetime.isoweekday(start_date)\n",
        "  return date\n",
        "\n",
        "def calculating_hours(start_day_of_the_week, delta):\n",
        "  start = (7 - start_day_of_the_week) * 8\n",
        "  days = (delta // 7) * 2\n",
        "  hours = (delta - days) * 8 - start\n",
        "  print(hours)\n",
        "  return hours\n",
        "\n",
        "startDate = input_date()\n",
        "endDate = input_date()\n",
        "startDateTime, endDateTime = date_to_datetime(startDate, endDate)\n",
        "delta = delta_time(startDateTime, endDateTime)\n",
        "start_day_of_the_week = day_of_the_week(startDateTime)\n",
        "calculating_hours(start_day_of_the_week, delta)\n",
        "\n",
        "    "
      ]
    },
    {
      "cell_type": "code",
      "execution_count": null,
      "metadata": {
        "colab": {
          "base_uri": "https://localhost:8080/",
          "height": 58
        },
        "id": "pP62WwgdRJQI",
        "outputId": "269b028d-a910-47e7-a8d3-418d0cac8eb3"
      },
      "outputs": [],
      "source": [
        "\n",
        "20\"\"\"Тестирование задания 2\"\"\"\n"
      ]
    },
    {
      "cell_type": "markdown",
      "metadata": {
        "id": "YJTGDprVRJQI"
      },
      "source": [
        "---\n",
        "\n",
        "Практически всегда в датасетах дата и время представлены строкой в формате ***год-месяц-день часы:минуты:секунды***, например:"
      ]
    },
    {
      "cell_type": "code",
      "execution_count": null,
      "metadata": {
        "id": "EETqCy5MRJQI",
        "outputId": "333344b1-983c-496d-c9b6-d9d6485dc221"
      },
      "outputs": [],
      "source": [
        "Date_Time = '2021-01-02 21:15:06'\n",
        "Date_Time"
      ]
    },
    {
      "cell_type": "markdown",
      "metadata": {
        "id": "FddRUDYURJQI"
      },
      "source": [
        "В таком виде информация практически не может быть использована в задачах машинного обучения. Поэтому необходимо научиться преобразовывать эту строку и извлекать из нее полезную информацию. Мы уже рассмотрели библиотеку DateTime и можно пользоваться ею, но можно воспользоваться и просто обработкой строки, зная ее формат. Например, мы можем разбить строку на дату и время:"
      ]
    },
    {
      "cell_type": "code",
      "execution_count": null,
      "metadata": {
        "id": "HNW2tmJ-RJQI",
        "outputId": "2e4ccb79-d735-4116-e069-263e3bdd603c"
      },
      "outputs": [],
      "source": [
        "Date, Time = Date_Time.split()\n",
        "Date, Time"
      ]
    },
    {
      "cell_type": "markdown",
      "metadata": {
        "id": "-ByF00uqRJQJ"
      },
      "source": [
        "Теперь мы можем разбить дату на год, месяц и день, а время - на часы, минуты и секунды:"
      ]
    },
    {
      "cell_type": "code",
      "execution_count": null,
      "metadata": {
        "id": "SaWKDly9RJQJ",
        "outputId": "825ce9b5-2704-4a11-f3ec-6d202ad9fa75"
      },
      "outputs": [],
      "source": [
        "Y, M, D = Date.split('-')\n",
        "print(Y, M, D)\n",
        "h, m, s = Time.split(':')\n",
        "print(h, m, s)"
      ]
    },
    {
      "cell_type": "markdown",
      "metadata": {
        "id": "4EJj9c-3RJQJ"
      },
      "source": [
        "В данном способе есть недостаток - результат у нас записан в виде строк:"
      ]
    },
    {
      "cell_type": "code",
      "execution_count": null,
      "metadata": {
        "id": "w5N78bE7RJQJ",
        "outputId": "828ffdd8-a62f-4641-d28c-fa7bc78d3ca7"
      },
      "outputs": [],
      "source": [
        "type(Y)"
      ]
    },
    {
      "cell_type": "markdown",
      "metadata": {
        "id": "aOuafoMARJQJ"
      },
      "source": [
        "Чтобы получить целочисленные значения, можно модифицировать код следующим образом:"
      ]
    },
    {
      "cell_type": "code",
      "execution_count": null,
      "metadata": {
        "id": "gwHFnXtORJQJ",
        "outputId": "07e02df5-6c16-4600-f17a-b70e2934358f"
      },
      "outputs": [],
      "source": [
        "Y, M, D = map(int, Date.split('-'))\n",
        "print(Y, M, D)\n",
        "h, m, s = map(int, Time.split(':'))\n",
        "print(h, m, s)"
      ]
    },
    {
      "cell_type": "code",
      "execution_count": null,
      "metadata": {
        "id": "SvxmD-MiRJQJ",
        "outputId": "bc99487b-8b06-4ce7-c5f3-c38f9ca0d096"
      },
      "outputs": [],
      "source": [
        "type(Y)"
      ]
    },
    {
      "cell_type": "markdown",
      "metadata": {
        "id": "Wfx-SEGPRJQK"
      },
      "source": [
        "---\n",
        "\n",
        "# Задание 3\n",
        "\n",
        "Вам нужно написать функцию, которая из входного объекта datetime будет выделять следующую информацию:\n",
        "\n",
        "1. Дата - в формате ***год-месяц-день***;\n",
        "2. Год;\n",
        "3. Месяц;\n",
        "4. День;\n",
        "5. Порядковый номер недели;\n",
        "6. День недели (например, понедельник);\n",
        "7. Время - в формате ***часы-минуты-секунды***;\n",
        "8. Часы;\n",
        "9. Минуты;\n",
        "10. Секунды;\n",
        "11. Количество секунд с начала дня.\n",
        "\n",
        "Эту функцию необходимо применить к таблице, в которой уже есть колонка с datetime'ами, и добавить в эту таблицу 11 новых столбцов, содержащих в себе значения из пп. 1-11. Очередность и название столбцов такие же, как в списке выше.\n",
        "\n",
        "Добиться результата можно различными способами.\n",
        "\n",
        "Для получения исходной информации необходимо выполнить код:"
      ]
    },
    {
      "cell_type": "code",
      "execution_count": null,
      "metadata": {
        "colab": {
          "base_uri": "https://localhost:8080/"
        },
        "id": "4ZYxzzzND3mA",
        "outputId": "7574d3b2-8b0e-4fde-fe05-b0df493f2da2"
      },
      "outputs": [],
      "source": [
        "from google.colab import drive  # если вы выполняете код из среды Google Colab, нужно подключить свой гугл-диск,\n",
        "drive.mount('/content/drive')   # чтобы можно было оттуда считать файл с данными для этого задания"
      ]
    },
    {
      "cell_type": "code",
      "execution_count": null,
      "metadata": {
        "colab": {
          "base_uri": "https://localhost:8080/",
          "height": 433
        },
        "id": "6LMUlNSURJQK",
        "outputId": "8e2f3d45-61a1-46d0-9f8f-7bc0cf91e186"
      },
      "outputs": [],
      "source": [
        "# здесь и далее вам понадобится менять пути к файлам, поскольку в вашей системе вы их можете записать в другое место\n",
        "import pandas as pd\n",
        "data = pd.read_excel('/content/drive/MyDrive/data/Даты.xlsx')\n",
        "data"
      ]
    },
    {
      "cell_type": "markdown",
      "metadata": {
        "id": "j3FPk6NeRJQK"
      },
      "source": [
        "Добавлять значения в таблицу можно следующим образом:"
      ]
    },
    {
      "cell_type": "code",
      "execution_count": null,
      "metadata": {
        "colab": {
          "base_uri": "https://localhost:8080/",
          "height": 449
        },
        "id": "jkSXSiVuRJQK",
        "outputId": "6a425dfe-27e1-400c-baef-6b5259a87d74"
      },
      "outputs": [],
      "source": [
        "from datetime import datetime, timedelta, date, time\n",
        "from google.colab import drive\n",
        "import pandas as pd\n",
        "drive.mount('/content/drive')\n",
        "data = pd.read_excel('/content/drive/MyDrive/data/Даты.xlsx')\n",
        "data['datetime'] = pd.to_datetime(data['datetime'], errors='coerce')\n",
        "data['Дата'] = data['datetime'].dt.date\n",
        "data['Время'] = data['datetime'].dt.time\n",
        "data['Год'] = data['datetime'].dt.year\n",
        "data['Месяц'] = data['datetime'].dt.month\n",
        "data['День'] = data['datetime'].dt.day\n",
        "data['Порядковый номер недели'] = data['datetime'].dt.isocalendar().week\n",
        "data['День недели'] = data['datetime'].dt.weekday\n",
        "data['Часы'] = data['datetime'].dt.hour\n",
        "data['Минуты'] = data['datetime'].dt.minute\n",
        "data['Секунды'] = data['datetime'].dt.second\n",
        "data['Количество секунд с начала дня'] = data.apply(lambda row: row['Секунды'] + row['Минуты']*60 + row['Часы']*3600, axis=1)\n",
        "data"
      ]
    },
    {
      "cell_type": "markdown",
      "metadata": {
        "id": "Ph43gYpzRJQK"
      },
      "source": [
        "Сохранить полученный результат можно следующим образом:"
      ]
    },
    {
      "cell_type": "code",
      "execution_count": 68,
      "metadata": {
        "id": "mxHRat2ERJQK"
      },
      "outputs": [],
      "source": [
        "nik_name = 'ebalgruu'\n",
        "data.to_excel('/content/drive/MyDrive/data/Даты '+nik_name+'.xlsx', index=False)"
      ]
    },
    {
      "cell_type": "markdown",
      "metadata": {
        "id": "iaGYRACRmF-u"
      },
      "source": [
        "Для выполнения задания вам нужно будет сохранить новый файл в ту же папку, откуда мы берем файл Даты.xlsx"
      ]
    },
    {
      "cell_type": "markdown",
      "metadata": {
        "id": "BEm_k9fqRJQL"
      },
      "source": [
        "Good_luck = 'Удачи!'"
      ]
    }
  ],
  "metadata": {
    "colab": {
      "name": "d01_desc.ipynb",
      "provenance": []
    },
    "kernelspec": {
      "display_name": "Python 3",
      "language": "python",
      "name": "python3"
    },
    "language_info": {
      "codemirror_mode": {
        "name": "ipython",
        "version": 3
      },
      "file_extension": ".py",
      "mimetype": "text/x-python",
      "name": "python",
      "nbconvert_exporter": "python",
      "pygments_lexer": "ipython3",
      "version": "3.7.6"
    }
  },
  "nbformat": 4,
  "nbformat_minor": 0
}
